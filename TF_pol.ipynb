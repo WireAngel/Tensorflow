{
 "cells": [
  {
   "cell_type": "code",
   "execution_count": 1,
   "metadata": {
    "collapsed": false
   },
   "outputs": [],
   "source": [
    "import numpy as np\n",
    "import tensorflow as tf\n",
    "import matplotlib.pyplot as plt"
   ]
  },
  {
   "cell_type": "code",
   "execution_count": 2,
   "metadata": {
    "collapsed": false
   },
   "outputs": [],
   "source": [
    "plt.ion()\n",
    "n_observations = 100\n",
    "fig, ax = plt.subplots(1, 1)\n",
    "xs = np.linspace(-3, 3, n_observations)\n",
    "ys = np.sin(xs) + np.random.uniform(-0.5, 0.5, n_observations)\n",
    "ax.scatter(xs, ys)\n",
    "fig.show()\n",
    "plt.draw()"
   ]
  },
  {
   "cell_type": "code",
   "execution_count": 3,
   "metadata": {
    "collapsed": true
   },
   "outputs": [],
   "source": [
    "X = tf.placeholder(tf.float32)\n",
    "Y = tf.placeholder(tf.float32)"
   ]
  },
  {
   "cell_type": "code",
   "execution_count": 4,
   "metadata": {
    "collapsed": false
   },
   "outputs": [],
   "source": [
    "Y_pred = tf.Variable(tf.random_normal([1]), name='bias')\n",
    "for pow_i in range(1, 5):\n",
    "    W = tf.Variable(tf.random_normal([1]), name='weight_%d' % pow_i)\n",
    "    Y_pred = tf.add(tf.mul(tf.pow(X, pow_i), W), Y_pred)"
   ]
  },
  {
   "cell_type": "code",
   "execution_count": 5,
   "metadata": {
    "collapsed": false
   },
   "outputs": [],
   "source": [
    "cost = tf.reduce_sum(tf.pow(Y_pred - Y, 2))/(n_observations-1)"
   ]
  },
  {
   "cell_type": "code",
   "execution_count": 6,
   "metadata": {
    "collapsed": true
   },
   "outputs": [],
   "source": [
    "learning_rate = 0.01\n",
    "optimizer = tf.train.GradientDescentOptimizer(learning_rate).minimize(cost)"
   ]
  },
  {
   "cell_type": "code",
   "execution_count": 7,
   "metadata": {
    "collapsed": false,
    "scrolled": true
   },
   "outputs": [
    {
     "name": "stdout",
     "output_type": "stream",
     "text": [
      "22.0426\n",
      "16.4153\n",
      "13.6335\n",
      "12.082\n",
      "11.1054\n",
      "10.4148\n",
      "9.87501\n",
      "9.4197\n",
      "9.01569\n",
      "8.64583\n",
      "8.30103\n",
      "7.97631\n",
      "7.66875\n",
      "7.37651\n",
      "7.09835\n",
      "6.83328\n",
      "6.58054\n",
      "6.33942\n",
      "6.10932\n",
      "5.88968\n",
      "5.67996\n",
      "5.47965\n",
      "5.28831\n",
      "5.10546\n",
      "4.93072\n",
      "4.76366\n",
      "4.60391\n",
      "4.45113\n",
      "4.30495\n",
      "4.16507\n",
      "4.03118\n",
      "3.90298\n",
      "3.78021\n",
      "3.6626\n",
      "3.5499\n",
      "3.44189\n",
      "3.33833\n",
      "3.23901\n",
      "3.14374\n",
      "3.05232\n",
      "2.96457\n",
      "2.88032\n",
      "2.79941\n",
      "2.72167\n",
      "2.64698\n",
      "2.57517\n",
      "2.50613\n",
      "2.43972\n",
      "2.37583\n",
      "2.31433\n",
      "2.25513\n",
      "2.19812\n",
      "2.1432\n",
      "2.09027\n",
      "2.03926\n",
      "1.99007\n",
      "1.94262\n",
      "1.89684\n",
      "1.85266\n",
      "1.81\n",
      "1.7688\n",
      "1.729\n",
      "1.69054\n",
      "1.65336\n",
      "1.61741\n",
      "1.58263\n",
      "1.54899\n",
      "1.51642\n",
      "1.48488\n",
      "1.45435\n",
      "1.42476\n",
      "1.39609\n",
      "1.36829\n",
      "1.34134\n",
      "1.3152\n",
      "1.28983\n",
      "1.26521\n",
      "1.24131\n",
      "1.2181\n",
      "1.19555\n",
      "1.17364\n",
      "1.15234\n",
      "1.13163\n",
      "1.1115\n",
      "1.09191\n",
      "1.07284\n",
      "1.05429\n",
      "1.03622\n",
      "1.01863\n",
      "1.00149\n",
      "0.984794\n",
      "0.96852\n",
      "0.952654\n",
      "0.937183\n",
      "0.922093\n",
      "0.907372\n",
      "0.893006\n",
      "0.878983\n",
      "0.865294\n",
      "0.851926\n"
     ]
    },
    {
     "name": "stderr",
     "output_type": "stream",
     "text": [
      "/home/wire/anaconda3/lib/python3.5/site-packages/matplotlib/backend_bases.py:2437: MatplotlibDeprecationWarning: Using default event loop until function specific to this GUI is implemented\n",
      "  warnings.warn(str, mplDeprecation)\n"
     ]
    },
    {
     "data": {
      "text/plain": [
       "True"
      ]
     },
     "execution_count": 7,
     "metadata": {},
     "output_type": "execute_result"
    }
   ],
   "source": [
    "n_epochs = 1000\n",
    "with tf.Session() as sess:\n",
    "    sess.run(tf.initialize_all_variables())\n",
    "    \n",
    "    prev_training_cost = 0.0\n",
    "    for epoch_i in range(n_epochs):\n",
    "        for (x, y) in zip(xs, ys):\n",
    "            sess.run(optimizer, feed_dict={X: x, Y: y})\n",
    "            \n",
    "        training_cost = sess.run(\n",
    "            cost, feed_dict={X: xs, Y: ys})\n",
    "        print(training_cost)\n",
    "        \n",
    "        if epoch_i % 100 ==0:\n",
    "            ax.plot(xs, Y_pred.eval(\n",
    "                feed_dict={X: xs}, session=sess),\n",
    "                   'k', alpha=epoch_i / n_epochs)\n",
    "            fig.show()\n",
    "            plt.draw()\n",
    "            \n",
    "        if np.abs(prev_training_cost - training_cost) <0.000001:\n",
    "            break\n",
    "        prev_training_cost = training_cost\n",
    "\n",
    "ax.set_ylim([-3, 3])\n",
    "fig.show()\n",
    "plt.waitforbuttonpress()"
   ]
  },
  {
   "cell_type": "code",
   "execution_count": null,
   "metadata": {
    "collapsed": true
   },
   "outputs": [],
   "source": []
  }
 ],
 "metadata": {
  "kernelspec": {
   "display_name": "Python 3",
   "language": "python",
   "name": "python3"
  },
  "language_info": {
   "codemirror_mode": {
    "name": "ipython",
    "version": 3
   },
   "file_extension": ".py",
   "mimetype": "text/x-python",
   "name": "python",
   "nbconvert_exporter": "python",
   "pygments_lexer": "ipython3",
   "version": "3.5.1"
  }
 },
 "nbformat": 4,
 "nbformat_minor": 0
}
