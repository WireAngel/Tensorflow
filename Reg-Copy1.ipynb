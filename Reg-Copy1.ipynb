{
 "cells": [
  {
   "cell_type": "code",
   "execution_count": 1,
   "metadata": {
    "collapsed": false
   },
   "outputs": [],
   "source": [
    "import numpy as np\n",
    "import matplotlib.pyplot as plt\n",
    "\n",
    "\n",
    "#%matplotlib inline"
   ]
  },
  {
   "cell_type": "code",
   "execution_count": 2,
   "metadata": {
    "collapsed": false
   },
   "outputs": [],
   "source": [
    "\n",
    "#Input der Daten\n",
    "\n",
    "#z=input()\n",
    "#x=z.split()\n",
    "#x = [float(a) for a in x]\n",
    "x= [3.33, 2, 1.429, 1.25, 1.11, 1, 0.667, 0.5, 0.25, 0.1667]\n",
    "\n",
    "#z=input()\n",
    "#y=z.split()\n",
    "#y = [float(a) for a in y]\n",
    "y=[475.08, 313.5, 254.90, 237.95, 223.60, 212.64, 177.75, 160.39, 133.96, 125.06]\n",
    "n=len(x)\n",
    "\n"
   ]
  },
  {
   "cell_type": "code",
   "execution_count": 3,
   "metadata": {
    "collapsed": false
   },
   "outputs": [],
   "source": [
    "\n",
    "\"\"\"\n",
    "y=[]\n",
    "for i in range(n):\n",
    "    c=np.random.uniform(0.7,1.3)\n",
    "    d=np.random.uniform(-3,3)\n",
    "    y.append(x[i]*-3*c+4.5+d)\n",
    "\"\"\"    \n",
    "\n",
    "#Hilfswerte für Grenzen\n",
    "\n",
    "mx=int((max(x)*1.2))+1\n",
    "mym=int((min(y)*1.2))+1\n",
    "myp=int((max(y)*1.2))+1\n",
    "if(mym>0):\n",
    "    mym=0\n",
    "if(myp<0):\n",
    "    myp=0\n",
    "\n",
    "#Hilfswerte für Formel(gegeben durch Wikipedia)\n",
    "\n",
    "sx=0\n",
    "sy=0\n",
    "sxx=0\n",
    "sxy=0\n",
    "sxsy=0\n",
    "for count in range(n):\n",
    "    sxy+=x[count]*y[count]\n",
    "for count in range(n):\n",
    "    sx+=x[count]\n",
    "    sy+=y[count]\n",
    "sxsy=sx*sy\n",
    "sxsx=sx*sx\n",
    "\n",
    "# Werte der Gerade berechnen\n",
    "\n",
    "for count in range(n):\n",
    "    sxx+=(x[count]*x[count])\n",
    "b=((n*sxy-sxsy)/(n*sxx-sxsx))\n",
    "a=((sxx*sy-sx*sxy)/(n*sxx-sxsx))\n"
   ]
  },
  {
   "cell_type": "code",
   "execution_count": 4,
   "metadata": {
    "collapsed": false
   },
   "outputs": [],
   "source": [
    "#x = x + np.random.randn(n)"
   ]
  },
  {
   "cell_type": "code",
   "execution_count": 5,
   "metadata": {
    "collapsed": false
   },
   "outputs": [
    {
     "name": "stdout",
     "output_type": "stream",
     "text": [
      "103.63462624144206 109.24690349966924\n"
     ]
    }
   ],
   "source": [
    "\n",
    "# Funktion und Grenzen einstellen\n",
    "\n",
    "xi=np.arange(0,mx*1.1)\n",
    "line=b*xi+a\n",
    "\n",
    "\n",
    "# Plot erstellen\n",
    "plt.plot(xi, line)\n",
    "plt.plot(x, y, 'ro')\n",
    "plt.axis([0,mx,mym,myp])\n",
    "plt.xlabel('1/d in 1/mm')\n",
    "f=plt.ylabel('C/pF', labelpad=20)\n",
    "f.set_rotation(0)\n",
    "plt.show()\n",
    "print(a, b)"
   ]
  },
  {
   "cell_type": "code",
   "execution_count": 6,
   "metadata": {
    "collapsed": true
   },
   "outputs": [],
   "source": [
    "def er(a,b):\n",
    "    c=103.635\n",
    "    res=(a-c)/(b-c)\n",
    "    return res"
   ]
  },
  {
   "cell_type": "code",
   "execution_count": 7,
   "metadata": {
    "collapsed": false,
    "scrolled": true
   },
   "outputs": [
    {
     "name": "stdout",
     "output_type": "stream",
     "text": [
      "[2.8264619329273617, 2.85391188815412, 2.859994497600342, 2.872742532094122, 2.8774008990600732, 2.885428925856421, 2.892959746925337, 2.895616411528544, 2.887627135380666, 2.8780219413785053, 2.8635705872454995, 2.853903939630851, 2.833555578349916, 2.814670506522108]\n",
      "[5.216079073946826, 4.772188850839275, 4.663399254800802, 4.5882387671960805, 4.5525317598892165, 4.5315282126849645, 4.540122482479954, 4.553063986081579, 4.558455183266672, 4.576165175869259, 4.585725049660937, 4.605533431146512, 4.585753656985374, 4.576876813132385]\n"
     ]
    }
   ],
   "source": [
    "import numpy as np\n",
    "import matplotlib.pyplot as plt\n",
    "\n",
    "x=[20, 100, 200, 500, 1000, 2000, 5000, 10000, 20000, 50000, 100000, 200000, 500000, 1000000]\n",
    "\n",
    "t11=[588.67, 576.2, 571.43, 565.73, 561.30, 557.21, 551.74, 547.20, 542.28, 535.18, 529.09, 523.43, 518, 519.01]\n",
    "t12=[275.24, 269.22, 267.2, 264.49, 262.69, 260.83, 258.53, 256.82, 255.54, 253.58, 252.21, 250.73, 249.87, 251.21]\n",
    "tan1=[0.0215, 0.0193, 0.0182, 0.017, 0.0169, 0.0172, 0.0183, 0.0193, 0.0214, 0.02349, 0.0244, 0.0249, 0.026, 0.0263]\n",
    "\n",
    "t21=[597.05, 528.67, 510.4, 492.19, 481.7, 472.66, 463.19, 456.93, 451.24, 443.85, 438.37, 433.23, 428.1, 427.06]\n",
    "t22=[198.23, 192.7, 190.86, 188.32, 186.68, 185.07, 182.83, 181.23, 179.89, 177.98, 176.63, 175.2, 174.39, 174.3]\n",
    "tan2=[0.197, 0.109, 0.086, 0.063, 0.051, 0.043, 0.036, 0.032, 0.030, 0.029, 0.028, 0.028, 0.03, 0.033]\n",
    "\n",
    "result1=[]\n",
    "result2=[]\n",
    "for i in range(14):\n",
    "    result1.append(er(t11[i],t12[i]))\n",
    "    result2.append(er(t21[i],t22[i]))\n",
    "\n",
    "print(result1)\n",
    "print(result2)\n",
    "    \n",
    "plt.semilogx(x, result1)\n",
    "plt.semilogx(x, result1, 'ro')\n",
    "plt.semilogx(x, result2)\n",
    "plt.semilogx(x, result2, 'ro')\n",
    "plt.xlabel('log(f/Hz)')\n",
    "f=plt.ylabel(r'$\\epsilon_R}$', size=15, labelpad=20)\n",
    "f.set_rotation(0)\n",
    "plt.ylim((0, 6))\n",
    "\n",
    "plt.show()\n",
    "\n",
    "plt.semilogx(x, tan1)\n",
    "plt.semilogx(x, tan1, 'ro')\n",
    "plt.semilogx(x, tan2)\n",
    "plt.semilogx(x, tan2, 'ro')\n",
    "plt.xlabel('log(f/Hz)')\n",
    "f=plt.ylabel(r'$tan{\\delta}}$', size=15, labelpad=20)\n",
    "f.set_rotation(0)\n",
    "plt.ylim((0, 0.2))\n",
    "plt.show()\n",
    "\n",
    "\n",
    "# log x axis\n",
    "#plt.semilogx(x, result)\n",
    "#plt.title('semilogx')\n",
    "\n",
    "#plt.show()\n"
   ]
  },
  {
   "cell_type": "code",
   "execution_count": null,
   "metadata": {
    "collapsed": true
   },
   "outputs": [],
   "source": []
  },
  {
   "cell_type": "code",
   "execution_count": null,
   "metadata": {
    "collapsed": true
   },
   "outputs": [],
   "source": []
  },
  {
   "cell_type": "code",
   "execution_count": null,
   "metadata": {
    "collapsed": true
   },
   "outputs": [],
   "source": []
  }
 ],
 "metadata": {
  "kernelspec": {
   "display_name": "Python 3",
   "language": "python",
   "name": "python3"
  },
  "language_info": {
   "codemirror_mode": {
    "name": "ipython",
    "version": 3
   },
   "file_extension": ".py",
   "mimetype": "text/x-python",
   "name": "python",
   "nbconvert_exporter": "python",
   "pygments_lexer": "ipython3",
   "version": "3.5.1"
  }
 },
 "nbformat": 4,
 "nbformat_minor": 0
}
