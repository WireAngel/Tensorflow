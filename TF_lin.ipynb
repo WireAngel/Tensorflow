{
 "cells": [
  {
   "cell_type": "code",
   "execution_count": 1,
   "metadata": {
    "collapsed": true
   },
   "outputs": [],
   "source": [
    "import numpy as np\n",
    "import matplotlib.pyplot as plt\n",
    "import tensorflow as tf"
   ]
  },
  {
   "cell_type": "code",
   "execution_count": 2,
   "metadata": {
    "collapsed": false
   },
   "outputs": [],
   "source": [
    "plt.ion()\n",
    "ran = 1000\n",
    "fig, ax = plt.subplots(1, 1)\n",
    "\n",
    "xs = np.linspace(-10, 30, ran)\n",
    "ys=xs\n",
    "for i in range(ran):\n",
    "    b = np.random.uniform(-2, 2)\n",
    "    a = np.random.uniform(0.8, 1.2)\n",
    "    ys[i] = ys[i]*a + b\n",
    "ax.scatter(xs, ys)\n",
    "fig.show()\n",
    "plt.draw()"
   ]
  },
  {
   "cell_type": "code",
   "execution_count": 3,
   "metadata": {
    "collapsed": false,
    "scrolled": true
   },
   "outputs": [],
   "source": [
    "X = tf.placeholder(tf.float32)\n",
    "Y = tf.placeholder(tf.float32)"
   ]
  },
  {
   "cell_type": "code",
   "execution_count": 4,
   "metadata": {
    "collapsed": false
   },
   "outputs": [],
   "source": [
    "Y_pred = tf.Variable(tf.random_normal([1]), name = 'bias')\n",
    "W = tf.Variable(tf.random_normal([1]), name = 'weight')\n",
    "Y_pred = tf.add(tf.mul(X, W), Y_pred)"
   ]
  },
  {
   "cell_type": "code",
   "execution_count": 5,
   "metadata": {
    "collapsed": false
   },
   "outputs": [],
   "source": [
    "cost = tf.reduce_sum(tf.pow(Y_pred - Y, 2)) / ran"
   ]
  },
  {
   "cell_type": "code",
   "execution_count": 6,
   "metadata": {
    "collapsed": false
   },
   "outputs": [],
   "source": [
    "learning_rate = 0.5\n",
    "optimizer = tf.train.GradientDescentOptimizer(learning_rate).minimize(cost)"
   ]
  },
  {
   "cell_type": "code",
   "execution_count": 8,
   "metadata": {
    "collapsed": false
   },
   "outputs": [
    {
     "name": "stdout",
     "output_type": "stream",
     "text": [
      "0.524499\n",
      "0.320546\n",
      "0.1959\n",
      "0.119724\n",
      "0.0731687\n",
      "0.0447167\n",
      "0.0273285\n",
      "0.0167017\n",
      "0.0102072\n",
      "0.00623812\n",
      "0.00381237\n",
      "0.00232995\n",
      "0.00142393\n",
      "0.000870237\n",
      "0.000531854\n",
      "0.000325036\n",
      "0.000198643\n",
      "0.000121401\n",
      "7.41921e-05\n",
      "4.53404e-05\n",
      "2.77081e-05\n",
      "1.69354e-05\n",
      "1.03512e-05\n",
      "6.32552e-06\n",
      "3.86567e-06\n",
      "2.36315e-06\n",
      "1.44404e-06\n"
     ]
    },
    {
     "data": {
      "text/plain": [
       "<function matplotlib.pyplot.waitforbuttonpress>"
      ]
     },
     "execution_count": 8,
     "metadata": {},
     "output_type": "execute_result"
    }
   ],
   "source": [
    "n_epochs = 1000\n",
    "with tf.Session() as sess:\n",
    "    sess.run(tf.initialize_all_variables())\n",
    "    \n",
    "    prev_training_cost = 0.0\n",
    "    for epoch_i in range(n_epochs):\n",
    "        for (x, y) in zip(xs, ys):\n",
    "            sess.run(optimizer, feed_dict={X: x, Y: y})\n",
    "            \n",
    "        training_cost = sess.run(\n",
    "            cost, feed_dict = {X: xs, Y: ys})\n",
    "        print(training_cost)\n",
    "        \n",
    "        if epoch_i % 2 == 0:\n",
    "            ax.plot(xs, Y_pred.eval(\n",
    "                feed_dict={X: xs}, session=sess),\n",
    "                   'k', alpha=epoch_i / n_epochs)\n",
    "            fig.show()\n",
    "            plt.draw()\n",
    "        \n",
    "        if np.abs(prev_training_cost - training_cost) < 0.000001:\n",
    "            break\n",
    "        prev_training_cost = training_cost\n",
    "ax.set_ylim([-10, 30])\n",
    "fig.show()\n",
    "plt.waitforbuttonpress"
   ]
  },
  {
   "cell_type": "code",
   "execution_count": null,
   "metadata": {
    "collapsed": true
   },
   "outputs": [],
   "source": []
  }
 ],
 "metadata": {
  "kernelspec": {
   "display_name": "Python 3",
   "language": "python",
   "name": "python3"
  },
  "language_info": {
   "codemirror_mode": {
    "name": "ipython",
    "version": 3
   },
   "file_extension": ".py",
   "mimetype": "text/x-python",
   "name": "python",
   "nbconvert_exporter": "python",
   "pygments_lexer": "ipython3",
   "version": "3.5.1"
  }
 },
 "nbformat": 4,
 "nbformat_minor": 0
}
